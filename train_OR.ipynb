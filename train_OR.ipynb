{
  "nbformat": 4,
  "nbformat_minor": 0,
  "metadata": {
    "colab": {
      "provenance": []
    },
    "kernelspec": {
      "name": "python3",
      "display_name": "Python 3"
    },
    "language_info": {
      "name": "python"
    }
  },
  "cells": [
    {
      "cell_type": "code",
      "execution_count": 35,
      "metadata": {
        "id": "hDUbYmGME5vX"
      },
      "outputs": [],
      "source": [
        "# 1. Importation des bibliothèques\n",
        "import numpy as np\n",
        "from tensorflow.keras.models import Sequential\n",
        "from tensorflow.keras.layers import Dense\n",
        "import pandas as pd\n",
        "import matplotlib.pyplot as plt\n"
      ]
    },
    {
      "cell_type": "code",
      "source": [
        "# Inputs & Outputs data\n",
        "X = np.array([[0,0],[0,1],[1,0],[1,1]]) #Inputs\n",
        "Y = np.array([[0],[1],[1],[1]]) #Outputs\n",
        "\n",
        "# Créer un DataFrame pour un affichage propre\n",
        "data = pd.DataFrame({\n",
        "    'x1': X[:,0],\n",
        "    'x2': X[:,1],\n",
        "    'y (OR)': Y[:,0]\n",
        "})\n",
        "\n",
        "print(data)\n"
      ],
      "metadata": {
        "colab": {
          "base_uri": "https://localhost:8080/"
        },
        "id": "WBmiVz2_FRIg",
        "outputId": "d7f89ad9-dcef-4d81-a03f-eaaf03c452d8"
      },
      "execution_count": 9,
      "outputs": [
        {
          "output_type": "stream",
          "name": "stdout",
          "text": [
            "   x1  x2  y (OR)\n",
            "0   0   0       0\n",
            "1   0   1       1\n",
            "2   1   0       1\n",
            "3   1   1       1\n"
          ]
        }
      ]
    },
    {
      "cell_type": "code",
      "source": [
        "# 3. Construction du modèle\n",
        "model = Sequential()  # Un modèle séquentiel : empilement de couches\n",
        "model.add(Dense(1, input_dim=2, activation='sigmoid'))  # 1 neurone, 2 entrées"
      ],
      "metadata": {
        "id": "IYXU14PIJopT"
      },
      "execution_count": 22,
      "outputs": []
    },
    {
      "cell_type": "code",
      "source": [
        "# 4. Compilation du modèle\n",
        "model.compile(loss='binary_crossentropy', optimizer='sgd', metrics=['accuracy'])\n"
      ],
      "metadata": {
        "id": "09dmS9_SJt1d"
      },
      "execution_count": 23,
      "outputs": []
    },
    {
      "cell_type": "code",
      "source": [
        "\n",
        "# 5. Entraînement du modèle\n",
        "model.fit(X, Y, epochs=2500, verbose=0)  # epochs = nombre de fois que le modèle voit tout X"
      ],
      "metadata": {
        "colab": {
          "base_uri": "https://localhost:8080/"
        },
        "id": "HSNV3KTMJxuR",
        "outputId": "26abd7a9-b65c-4f3d-8e1b-c809012f9817"
      },
      "execution_count": 27,
      "outputs": [
        {
          "output_type": "execute_result",
          "data": {
            "text/plain": [
              "<keras.src.callbacks.history.History at 0x7f4ec81b4350>"
            ]
          },
          "metadata": {},
          "execution_count": 27
        }
      ]
    },
    {
      "cell_type": "code",
      "source": [
        "# Sauvegarder le modèle complet\n",
        "model.save('train_OR.h5')\n",
        "print(\"Modèle sauvegardé avec succès sous 'train_OR.h5'\")\n"
      ],
      "metadata": {
        "colab": {
          "base_uri": "https://localhost:8080/"
        },
        "id": "yanHSp_EMJUm",
        "outputId": "0c03cbcf-fafa-47a3-ed12-d99e77a117b1"
      },
      "execution_count": 37,
      "outputs": [
        {
          "output_type": "stream",
          "name": "stderr",
          "text": [
            "WARNING:absl:You are saving your model as an HDF5 file via `model.save()` or `keras.saving.save_model(model)`. This file format is considered legacy. We recommend using instead the native Keras format, e.g. `model.save('my_model.keras')` or `keras.saving.save_model(model, 'my_model.keras')`. \n"
          ]
        },
        {
          "output_type": "stream",
          "name": "stdout",
          "text": [
            "Modèle sauvegardé avec succès sous 'train_OR.h5'\n"
          ]
        }
      ]
    },
    {
      "cell_type": "code",
      "source": [
        "# 6. Évaluation du modèle\n",
        "predictions = model.predict(X)\n",
        "print(\"Prédictions :\")\n",
        "print(predictions)\n"
      ],
      "metadata": {
        "colab": {
          "base_uri": "https://localhost:8080/"
        },
        "id": "M4HD5FRNJzM_",
        "outputId": "3d20efd8-321e-4c8c-d50e-8878c90c8337"
      },
      "execution_count": 29,
      "outputs": [
        {
          "output_type": "stream",
          "name": "stdout",
          "text": [
            "\u001b[1m1/1\u001b[0m \u001b[32m━━━━━━━━━━━━━━━━━━━━\u001b[0m\u001b[37m\u001b[0m \u001b[1m0s\u001b[0m 42ms/step\n",
            "Prédictions :\n",
            "[[0.46007448]\n",
            " [0.8848419 ]\n",
            " [0.8106559 ]\n",
            " [0.97475165]]\n"
          ]
        }
      ]
    },
    {
      "cell_type": "code",
      "source": [
        "\n",
        "# 7. Arrondir les prédictions pour obtenir 0 ou 1\n",
        "print(\"Prédictions arrondies :\")\n",
        "print(np.round(predictions))"
      ],
      "metadata": {
        "colab": {
          "base_uri": "https://localhost:8080/"
        },
        "id": "gSv3lwdNG-qk",
        "outputId": "4b81420d-86e0-4403-b040-ac409ea54613"
      },
      "execution_count": 30,
      "outputs": [
        {
          "output_type": "stream",
          "name": "stdout",
          "text": [
            "Prédictions arrondies :\n",
            "[[0.]\n",
            " [1.]\n",
            " [1.]\n",
            " [1.]]\n"
          ]
        }
      ]
    },
    {
      "cell_type": "code",
      "source": [
        "# Bloc 8 : Affichage des poids\n",
        "for layer in model.layers:\n",
        "    weights, biases = layer.get_weights()\n",
        "    print(\"Poids :\", weights)\n",
        "    print(\"Biais :\", biases)"
      ],
      "metadata": {
        "colab": {
          "base_uri": "https://localhost:8080/"
        },
        "id": "q5ORO5CBKFBj",
        "outputId": "61e6e25f-4ea6-4ce6-afa4-72dd51dc1f8f"
      },
      "execution_count": 34,
      "outputs": [
        {
          "output_type": "stream",
          "name": "stdout",
          "text": [
            "Poids : [[1.6143203]\n",
            " [2.1991453]]\n",
            "Biais : [-0.16004282]\n"
          ]
        }
      ]
    },
    {
      "cell_type": "code",
      "source": [
        "\n",
        "# Reprendre les poids et biais de ton modèle\n",
        "weights, bias = model.layers[0].get_weights()\n",
        "w1, w2 = weights[0][0], weights[1][0]\n",
        "b = bias[0]\n",
        "\n",
        "# Créer un nuage de points (les vraies données)\n",
        "X_plot = np.array([[0,0], [0,1], [1,0], [1,1]])\n",
        "Y_plot = np.array([0,1,1,1])\n",
        "\n",
        "# Tracer les points\n",
        "for i in range(len(X_plot)):\n",
        "    if Y_plot[i] == 0:\n",
        "        plt.scatter(X_plot[i][0], X_plot[i][1], color='red', label='0' if i==0 else \"\")\n",
        "    else:\n",
        "        plt.scatter(X_plot[i][0], X_plot[i][1], color='blue', label='1' if i==1 else \"\")\n",
        "\n",
        "# Tracer la droite de décision\n",
        "x_values = np.linspace(-0.5, 1.5, 100)\n",
        "# Droite : w1*x1 + w2*x2 + b = 0  =>  x2 = (-w1*x1 - b) / w2\n",
        "y_values = (-w1 * x_values - b) / w2\n",
        "plt.plot(x_values, y_values, color='green', label='Frontière')\n",
        "\n",
        "# Style du graphe\n",
        "plt.xlabel('x1')\n",
        "plt.ylabel('x2')\n",
        "plt.title('Séparation du perceptron (fonction OR)')\n",
        "plt.legend()\n",
        "plt.grid(True)\n",
        "plt.xlim(-0.5, 1.5)\n",
        "plt.ylim(-0.5, 1.5)\n",
        "plt.savefig('graphique_separation.png')\n",
        "plt.show()"
      ],
      "metadata": {
        "colab": {
          "base_uri": "https://localhost:8080/",
          "height": 472
        },
        "id": "m-bh3o1kLnN3",
        "outputId": "9a5d08ae-7d21-4f85-fd82-4d1d2a5a2674"
      },
      "execution_count": 49,
      "outputs": [
        {
          "output_type": "display_data",
          "data": {
            "text/plain": [
              "<Figure size 640x480 with 1 Axes>"
            ],
            "image/png": "[encoded data removed]"
          },
          "metadata": {}
        }
      ]
    },
    {
      "cell_type": "code",
      "source": [
        "# Nouvelle approche : Arbre de décision\n",
        "from sklearn.tree import DecisionTreeClassifier\n",
        "\n",
        "# Données OR\n",
        "X = np.array([[0,0], [0,1], [1,0], [1,1]])\n",
        "Y = np.array([0,1,1,1])\n",
        "\n",
        "# Modèle Arbre de Décision\n",
        "tree_model = DecisionTreeClassifier()\n",
        "tree_model.fit(X, Y)\n",
        "\n",
        "# Prédictions\n",
        "predictions_tree = tree_model.predict(X)\n",
        "print(predictions_tree)\n"
      ],
      "metadata": {
        "colab": {
          "base_uri": "https://localhost:8080/"
        },
        "id": "pZv0HqOyhBwT",
        "outputId": "c9ec9f84-aa29-4569-fc6a-f0612faa55aa"
      },
      "execution_count": 50,
      "outputs": [
        {
          "output_type": "stream",
          "name": "stdout",
          "text": [
            "[0 1 1 1]\n"
          ]
        }
      ]
    }
  ]
}