{
  "nbformat": 4,
  "nbformat_minor": 0,
  "metadata": {
    "colab": {
      "provenance": []
    },
    "kernelspec": {
      "name": "python3",
      "display_name": "Python 3"
    },
    "language_info": {
      "name": "python"
    }
  },
  "cells": [
    {
      "cell_type": "code",
      "execution_count": 5,
      "metadata": {
        "colab": {
          "base_uri": "https://localhost:8080/"
        },
        "id": "IsV9z9-ROIl9",
        "outputId": "8f1b4663-b22e-4e11-bc53-5882d76cdb4c"
      },
      "outputs": [
        {
          "output_type": "stream",
          "name": "stderr",
          "text": [
            "WARNING:absl:Compiled the loaded model, but the compiled metrics have yet to be built. `model.compile_metrics` will be empty until you train or evaluate the model.\n"
          ]
        },
        {
          "output_type": "stream",
          "name": "stdout",
          "text": [
            "Modèle Réseau de Neurones chargé avec succès.\n",
            "Modèle Arbre de Décision chargé avec succès.\n",
            "\u001b[1m1/1\u001b[0m \u001b[32m━━━━━━━━━━━━━━━━━━━━\u001b[0m\u001b[37m\u001b[0m \u001b[1m0s\u001b[0m 89ms/step\n",
            "\n",
            "Prédictions Réseau de Neurones (arrondies) :\n",
            "[[0.]\n",
            " [1.]\n",
            " [1.]\n",
            " [1.]]\n",
            "\n",
            "Prédictions Arbre de Décision :\n",
            "[0 1 1 1]\n"
          ]
        }
      ],
      "source": [
        "# test_modele.py\n",
        "\n",
        "# Importation des bibliothèques nécessaires\n",
        "import numpy as np\n",
        "from tensorflow.keras.models import load_model\n",
        "import joblib  # Pour charger le modèle arbre de décision\n",
        "from sklearn.tree import DecisionTreeClassifier\n",
        "\n",
        "# Charger le modèle réseau de neurones\n",
        "model_nn = load_model('/content/train_OR.h5')\n",
        "print(\"Modèle Réseau de Neurones chargé avec succès.\")\n",
        "\n",
        "# Charger le modèle Arbre de Décision\n",
        "tree_model = joblib.load('/content/arbre_OR.pkl')\n",
        "print(\"Modèle Arbre de Décision chargé avec succès.\")\n",
        "\n",
        "# Préparation des données de test\n",
        "X_test = np.array([\n",
        "    [0, 0],\n",
        "    [0, 1],\n",
        "    [1, 0],\n",
        "    [1, 1]\n",
        "])\n",
        "\n",
        "# --- Prédiction avec le réseau de neurones ---\n",
        "predictions_nn = model_nn.predict(X_test)\n",
        "\n",
        "print(\"\\nPrédictions Réseau de Neurones (arrondies) :\")\n",
        "print(np.round(predictions_nn))\n",
        "\n",
        "# --- Prédiction avec l'arbre de décision ---\n",
        "predictions_tree = tree_model.predict(X_test)\n",
        "\n",
        "print(\"\\nPrédictions Arbre de Décision :\")\n",
        "print(predictions_tree)\n"
      ]
    }
  ]
}